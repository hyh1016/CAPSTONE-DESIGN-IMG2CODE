{
 "cells": [
  {
   "cell_type": "code",
   "execution_count": null,
   "metadata": {},
   "outputs": [],
   "source": [
    "from pix2code.model.classes.dataset.Dataset import Dataset\n",
    "# analysis data using tensorboard\n",
    "\n",
    "dataPath = \"pix2code/datasets/pix2code_datasets/web/all_data\"\n",
    "dataset = Dataset()\n",
    "dataset.load(dataPath, generate_binary_sequences=True)"
   ]
  },
  {
   "cell_type": "code",
   "execution_count": null,
   "metadata": {},
   "outputs": [],
   "source": [
    "import numpy as np"
   ]
  },
  {
   "cell_type": "code",
   "execution_count": null,
   "metadata": {},
   "outputs": [],
   "source": [
    "dic = dict()\n",
    "for i, tok in enumerate(dataset.next_words):\n",
    "    if dataset.ids[i] not in dic:\n",
    "        dic[dataset.ids[i]] = tok.copy()\n",
    "    else:\n",
    "        dic[dataset.ids[i]] += tok\n",
    "    # print(dataset.voc.token_lookup[np.argmax(tok)])"
   ]
  },
  {
   "cell_type": "code",
   "execution_count": null,
   "metadata": {},
   "outputs": [],
   "source": [
    "labelCountMean = np.mean(np.array([v for v in dic.values()]), axis=0)\n",
    "print(labelCountMean)"
   ]
  },
  {
   "cell_type": "code",
   "execution_count": null,
   "metadata": {},
   "outputs": [],
   "source": [
    "import matplotlib.pyplot as plt"
   ]
  },
  {
   "cell_type": "code",
   "execution_count": 18,
   "metadata": {},
   "outputs": [
    {
     "data": {
      "image/png": "[encoded data removed]",
      "text/plain": [
       "<Figure size 432x288 with 1 Axes>"
      ]
     },
     "metadata": {
      "needs_background": "light"
     },
     "output_type": "display_data"
    }
   ],
   "source": [
    "plt.barh(list(dataset.voc.token_lookup.values())[::-1], labelCountMean[::-1])\n",
    "plt.show()\n"
   ]
  },
  {
   "cell_type": "code",
   "execution_count": null,
   "metadata": {},
   "outputs": [],
   "source": [
    "# # javascript html 객체 중심 좌표\n",
    "# # https://stackoverflow.com/questions/442404/retrieve-the-position-x-y-of-an-html-element\n",
    "# from pix2code.compiler.classes.Compiler import *\n",
    "# from pix2code.compiler.classes.Utils import *\n",
    "# from pix2code.compiler.classes.DSLMapper import DSLMapper\n",
    "# from pix2code.compiler.web_compiler import render_content_with_text\n",
    "\n",
    "# dsl_path = 'pix2code/compiler/assets/class-group.json'\n",
    "# dsl_mapper = DSLMapper(dsl_path)\n",
    "# compiler = Compiler(dsl_mapper.get_dsl_mapping())\n",
    "\n",
    "# for i, name in enumerate(dataset.ids):\n",
    "#     dsl = f'{dataPath}/{name}.gui'\n",
    "#     html = f'{dataPath}/{name}.html'\n",
    "#     compiler.compile(dsl, html, rendering_function=render_content_with_text)\n"
   ]
  },
  {
   "cell_type": "code",
   "execution_count": null,
   "metadata": {},
   "outputs": [],
   "source": [
    "print(dataset.ids)"
   ]
  },
  {
   "cell_type": "code",
   "execution_count": 12,
   "metadata": {},
   "outputs": [],
   "source": [
    "from posixpath import abspath\n",
    "from selenium import webdriver\n",
    "from selenium.webdriver.common.keys import Keys\n",
    "from selenium.webdriver.common.by import By\n",
    "from selenium.webdriver.support.ui import WebDriverWait\n",
    "from selenium.webdriver.support import expected_conditions as EC\n",
    "from selenium.webdriver.common.action_chains import ActionChains\n",
    "from selenium.webdriver.common.desired_capabilities import DesiredCapabilities\n",
    "from selenium.webdriver.chrome.options import Options\n",
    "import time, os\n",
    "\n",
    "driver = webdriver.Chrome()\n",
    "\n",
    "def getCenterPosition(driver, element):\n",
    "    location = element.location\n",
    "    size = element.size\n",
    "    return (location['x'] + size['width'] / 2, location['y'] + size['height'] / 2)\n",
    "\n",
    "htmls = [f for f in os.listdir(dataPath) if f.endswith('.html')]\n",
    "# 태그별 중심 좌표 수집\n",
    "centerPosData = dict()\n",
    "for i, name in enumerate(htmls):\n",
    "    html = os.path.join(dataPath, name)\n",
    "    driver.get(abspath(html))\n",
    "    time.sleep(1)\n",
    "    \n",
    "    # retrive center position\n",
    "    elements = driver.find_elements(By.XPATH, '//*')\n",
    "    for element in elements:\n",
    "        center = getCenterPosition(driver, element)\n",
    "        if center==(0, 0):\n",
    "            continue\n",
    "        if element.tag_name not in centerPosData:\n",
    "            centerPosData[element.tag_name] = [center]\n",
    "        else:\n",
    "            centerPosData[element.tag_name].append(center)\n",
    "        # print(element.tag_name, getCenterPosition(driver, element))\n",
    "    # break\n",
    "driver.close()"
   ]
  },
  {
   "cell_type": "code",
   "execution_count": 14,
   "metadata": {},
   "outputs": [],
   "source": [
    "import json\n",
    "with open('centerPosData.json', 'w') as f:\n",
    "    json.dump(centerPosData, f)"
   ]
  },
  {
   "cell_type": "code",
   "execution_count": 1,
   "metadata": {},
   "outputs": [
    {
     "data": {
      "image/png": "[encoded data removed]",
      "text/plain": [
       "<Figure size 432x288 with 1 Axes>"
      ]
     },
     "metadata": {
      "needs_background": "light"
     },
     "output_type": "display_data"
    }
   ],
   "source": [
    "# import json\n",
    "# with open('centerPosData.json', 'r') as f:\n",
    "#     centerPosData = json.load(f)\n",
    "\n",
    "# # 태그별 중심 좌표 분포\n",
    "# import matplotlib.pyplot as plt\n",
    "# import numpy as np\n",
    "\n",
    "# for tag, pos in centerPosData.items():\n",
    "#     pos = np.array(pos)\n",
    "#     plt.scatter(pos[:, 0], pos[:, 1], label=tag)\n",
    "# plt.legend()\n",
    "# plt.show()\n"
   ]
  },
  {
   "cell_type": "code",
   "execution_count": 15,
   "metadata": {},
   "outputs": [
    {
     "data": {
      "text/plain": [
       "<matplotlib.collections.PathCollection at 0x296afca63d0>"
      ]
     },
     "execution_count": 15,
     "metadata": {},
     "output_type": "execute_result"
    },
    {
     "data": {
      "image/png": "[encoded data removed]",
      "text/plain": [
       "<Figure size 432x288 with 1 Axes>"
      ]
     },
     "metadata": {
      "needs_background": "light"
     },
     "output_type": "display_data"
    }
   ],
   "source": [
    "plt.scatter(*zip(*centerPosData['div']))"
   ]
  },
  {
   "cell_type": "code",
   "execution_count": 17,
   "metadata": {},
   "outputs": [
    {
     "data": {
      "image/png": "[encoded data removed]",
      "text/plain": [
       "<Figure size 432x288 with 1 Axes>"
      ]
     },
     "metadata": {
      "needs_background": "light"
     },
     "output_type": "display_data"
    }
   ],
   "source": [
    "for posData in centerPosData:\n",
    "    plt.scatter(*zip(*centerPosData[posData]))\n",
    "plt.show()"
   ]
  },
  {
   "cell_type": "code",
   "execution_count": null,
   "metadata": {},
   "outputs": [],
   "source": []
  }
 ],
 "metadata": {
  "kernelspec": {
   "display_name": "Python 3.8.13 ('capstone')",
   "language": "python",
   "name": "python3"
  },
  "language_info": {
   "codemirror_mode": {
    "name": "ipython",
    "version": 3
   },
   "file_extension": ".py",
   "mimetype": "text/x-python",
   "name": "python",
   "nbconvert_exporter": "python",
   "pygments_lexer": "ipython3",
   "version": "3.8.13"
  },
  "orig_nbformat": 4,
  "vscode": {
   "interpreter": {
    "hash": "416c1d3ac02f713a9a5502b63071185a8d76ad9cf71f6b904773d8aa1e5d8d6d"
   }
  }
 },
 "nbformat": 4,
 "nbformat_minor": 2
}
