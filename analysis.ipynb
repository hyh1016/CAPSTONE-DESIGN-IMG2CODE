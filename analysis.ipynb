{
 "cells": [
  {
   "cell_type": "code",
   "execution_count": 4,
   "metadata": {},
   "outputs": [
    {
     "name": "stdout",
     "output_type": "stream",
     "text": [
      "Loading data...\n",
      "Generating sparse vectors...\n",
      "Dataset size: 177550\n",
      "Vocabulary size: 20\n",
      "Input shape: (256, 256, 3)\n",
      "Output size: 20\n"
     ]
    }
   ],
   "source": [
    "from pix2code.model.classes.dataset.Dataset import Dataset\n",
    "# analysis data using tensorboard\n",
    "\n",
    "# dataPath = \"pix2code/datasets/pix2code_datasets/web/all_data\"\n",
    "dataPath = \"dataGenerator/data/dsl/\"\n",
    "dataset = Dataset()\n",
    "dataset.load(dataPath, generate_binary_sequences=True)"
   ]
  },
  {
   "cell_type": "code",
   "execution_count": 5,
   "metadata": {},
   "outputs": [],
   "source": [
    "import numpy as np"
   ]
  },
  {
   "cell_type": "code",
   "execution_count": 6,
   "metadata": {},
   "outputs": [],
   "source": [
    "dic = dict()\n",
    "for i, tok in enumerate(dataset.next_words):\n",
    "    if dataset.ids[i] not in dic:\n",
    "        dic[dataset.ids[i]] = tok.copy()\n",
    "    else:\n",
    "        dic[dataset.ids[i]] += tok\n",
    "    # print(dataset.voc.token_lookup[np.argmax(tok)])"
   ]
  },
  {
   "cell_type": "code",
   "execution_count": 7,
   "metadata": {},
   "outputs": [
    {
     "name": "stdout",
     "output_type": "stream",
     "text": [
      "[ 1.          1.          0.          1.          7.63933333 19.93133333\n",
      "  1.51666667  7.63933333  1.98666667  0.65666667  1.13766667  4.34066667\n",
      "  1.15666667  1.159       1.15466667  1.52766667  1.324       1.15866667\n",
      "  1.18233333  2.672     ]\n"
     ]
    }
   ],
   "source": [
    "labelCountMean = np.mean(np.array([v for v in dic.values()]), axis=0)\n",
    "print(labelCountMean)"
   ]
  },
  {
   "cell_type": "code",
   "execution_count": 8,
   "metadata": {},
   "outputs": [],
   "source": [
    "import matplotlib.pyplot as plt"
   ]
  },
  {
   "cell_type": "code",
   "execution_count": 9,
   "metadata": {},
   "outputs": [
    {
     "data": {
      "image/png": "[encoded data removed]",
      "text/plain": [
       "<Figure size 432x288 with 1 Axes>"
      ]
     },
     "metadata": {
      "needs_background": "light"
     },
     "output_type": "display_data"
    }
   ],
   "source": [
    "plt.barh(list(dataset.voc.token_lookup.values())[::-1], labelCountMean[::-1])\n",
    "plt.show()\n"
   ]
  },
  {
   "cell_type": "code",
   "execution_count": null,
   "metadata": {},
   "outputs": [],
   "source": [
    "# # javascript html 객체 중심 좌표\n",
    "# # https://stackoverflow.com/questions/442404/retrieve-the-position-x-y-of-an-html-element\n",
    "# from pix2code.compiler.classes.Compiler import *\n",
    "# from pix2code.compiler.classes.Utils import *\n",
    "# from pix2code.compiler.classes.DSLMapper import DSLMapper\n",
    "# from pix2code.compiler.web_compiler import render_content_with_text\n",
    "\n",
    "# dsl_path = 'pix2code/compiler/assets/class-group.json'\n",
    "# dsl_mapper = DSLMapper(dsl_path)\n",
    "# compiler = Compiler(dsl_mapper.get_dsl_mapping())\n",
    "\n",
    "# for i, name in enumerate(dataset.ids):\n",
    "#     dsl = f'{dataPath}/{name}.gui'\n",
    "#     html = f'{dataPath}/{name}.html'\n",
    "#     compiler.compile(dsl, html, rendering_function=render_content_with_text)\n"
   ]
  },
  {
   "cell_type": "code",
   "execution_count": null,
   "metadata": {},
   "outputs": [],
   "source": [
    "print(dataset.ids)"
   ]
  },
  {
   "cell_type": "markdown",
   "metadata": {},
   "source": [
    "# 중심 좌표"
   ]
  },
  {
   "cell_type": "code",
   "execution_count": 4,
   "metadata": {},
   "outputs": [
    {
     "ename": "KeyboardInterrupt",
     "evalue": "",
     "output_type": "error",
     "traceback": [
      "\u001b[1;31m---------------------------------------------------------------------------\u001b[0m",
      "\u001b[1;31mKeyboardInterrupt\u001b[0m                         Traceback (most recent call last)",
      "\u001b[1;32md:\\workspace\\im2code2\\capstone-design-img2code\\analysis.ipynb Cell 10\u001b[0m in \u001b[0;36m<cell line: 22>\u001b[1;34m()\u001b[0m\n\u001b[0;32m     <a href='vscode-notebook-cell:/d%3A/workspace/im2code2/capstone-design-img2code/analysis.ipynb#X11sZmlsZQ%3D%3D?line=27'>28</a>\u001b[0m elements \u001b[39m=\u001b[39m driver\u001b[39m.\u001b[39mfind_elements(By\u001b[39m.\u001b[39mXPATH, \u001b[39m'\u001b[39m\u001b[39m//*\u001b[39m\u001b[39m'\u001b[39m)\n\u001b[0;32m     <a href='vscode-notebook-cell:/d%3A/workspace/im2code2/capstone-design-img2code/analysis.ipynb#X11sZmlsZQ%3D%3D?line=28'>29</a>\u001b[0m \u001b[39mfor\u001b[39;00m element \u001b[39min\u001b[39;00m elements:\n\u001b[1;32m---> <a href='vscode-notebook-cell:/d%3A/workspace/im2code2/capstone-design-img2code/analysis.ipynb#X11sZmlsZQ%3D%3D?line=29'>30</a>\u001b[0m     center \u001b[39m=\u001b[39m getCenterPosition(driver, element)\n\u001b[0;32m     <a href='vscode-notebook-cell:/d%3A/workspace/im2code2/capstone-design-img2code/analysis.ipynb#X11sZmlsZQ%3D%3D?line=30'>31</a>\u001b[0m     \u001b[39mif\u001b[39;00m center\u001b[39m==\u001b[39m(\u001b[39m0\u001b[39m, \u001b[39m0\u001b[39m):\n\u001b[0;32m     <a href='vscode-notebook-cell:/d%3A/workspace/im2code2/capstone-design-img2code/analysis.ipynb#X11sZmlsZQ%3D%3D?line=31'>32</a>\u001b[0m         \u001b[39mcontinue\u001b[39;00m\n",
      "\u001b[1;32md:\\workspace\\im2code2\\capstone-design-img2code\\analysis.ipynb Cell 10\u001b[0m in \u001b[0;36mgetCenterPosition\u001b[1;34m(driver, element)\u001b[0m\n\u001b[0;32m     <a href='vscode-notebook-cell:/d%3A/workspace/im2code2/capstone-design-img2code/analysis.ipynb#X11sZmlsZQ%3D%3D?line=13'>14</a>\u001b[0m \u001b[39mdef\u001b[39;00m \u001b[39mgetCenterPosition\u001b[39m(driver, element):\n\u001b[1;32m---> <a href='vscode-notebook-cell:/d%3A/workspace/im2code2/capstone-design-img2code/analysis.ipynb#X11sZmlsZQ%3D%3D?line=14'>15</a>\u001b[0m     location \u001b[39m=\u001b[39m element\u001b[39m.\u001b[39;49mlocation\n\u001b[0;32m     <a href='vscode-notebook-cell:/d%3A/workspace/im2code2/capstone-design-img2code/analysis.ipynb#X11sZmlsZQ%3D%3D?line=15'>16</a>\u001b[0m     size \u001b[39m=\u001b[39m element\u001b[39m.\u001b[39msize\n\u001b[0;32m     <a href='vscode-notebook-cell:/d%3A/workspace/im2code2/capstone-design-img2code/analysis.ipynb#X11sZmlsZQ%3D%3D?line=16'>17</a>\u001b[0m     \u001b[39mreturn\u001b[39;00m (location[\u001b[39m'\u001b[39m\u001b[39mx\u001b[39m\u001b[39m'\u001b[39m] \u001b[39m+\u001b[39m size[\u001b[39m'\u001b[39m\u001b[39mwidth\u001b[39m\u001b[39m'\u001b[39m] \u001b[39m/\u001b[39m \u001b[39m2\u001b[39m, location[\u001b[39m'\u001b[39m\u001b[39my\u001b[39m\u001b[39m'\u001b[39m] \u001b[39m+\u001b[39m size[\u001b[39m'\u001b[39m\u001b[39mheight\u001b[39m\u001b[39m'\u001b[39m] \u001b[39m/\u001b[39m \u001b[39m2\u001b[39m)\n",
      "File \u001b[1;32mc:\\dev\\anaconda3\\envs\\capstone\\lib\\site-packages\\selenium\\webdriver\\remote\\webelement.py:286\u001b[0m, in \u001b[0;36mWebElement.location\u001b[1;34m(self)\u001b[0m\n\u001b[0;32m    283\u001b[0m \u001b[39m@property\u001b[39m\n\u001b[0;32m    284\u001b[0m \u001b[39mdef\u001b[39;00m \u001b[39mlocation\u001b[39m(\u001b[39mself\u001b[39m) \u001b[39m-\u001b[39m\u001b[39m>\u001b[39m \u001b[39mdict\u001b[39m:\n\u001b[0;32m    285\u001b[0m     \u001b[39m\"\"\"The location of the element in the renderable canvas.\"\"\"\u001b[39;00m\n\u001b[1;32m--> 286\u001b[0m     old_loc \u001b[39m=\u001b[39m \u001b[39mself\u001b[39;49m\u001b[39m.\u001b[39;49m_execute(Command\u001b[39m.\u001b[39;49mGET_ELEMENT_RECT)[\u001b[39m'\u001b[39m\u001b[39mvalue\u001b[39m\u001b[39m'\u001b[39m]\n\u001b[0;32m    287\u001b[0m     new_loc \u001b[39m=\u001b[39m {\u001b[39m\"\u001b[39m\u001b[39mx\u001b[39m\u001b[39m\"\u001b[39m: \u001b[39mround\u001b[39m(old_loc[\u001b[39m'\u001b[39m\u001b[39mx\u001b[39m\u001b[39m'\u001b[39m]),\n\u001b[0;32m    288\u001b[0m                \u001b[39m\"\u001b[39m\u001b[39my\u001b[39m\u001b[39m\"\u001b[39m: \u001b[39mround\u001b[39m(old_loc[\u001b[39m'\u001b[39m\u001b[39my\u001b[39m\u001b[39m'\u001b[39m])}\n\u001b[0;32m    289\u001b[0m     \u001b[39mreturn\u001b[39;00m new_loc\n",
      "File \u001b[1;32mc:\\dev\\anaconda3\\envs\\capstone\\lib\\site-packages\\selenium\\webdriver\\remote\\webelement.py:396\u001b[0m, in \u001b[0;36mWebElement._execute\u001b[1;34m(self, command, params)\u001b[0m\n\u001b[0;32m    394\u001b[0m     params \u001b[39m=\u001b[39m {}\n\u001b[0;32m    395\u001b[0m params[\u001b[39m'\u001b[39m\u001b[39mid\u001b[39m\u001b[39m'\u001b[39m] \u001b[39m=\u001b[39m \u001b[39mself\u001b[39m\u001b[39m.\u001b[39m_id\n\u001b[1;32m--> 396\u001b[0m \u001b[39mreturn\u001b[39;00m \u001b[39mself\u001b[39;49m\u001b[39m.\u001b[39;49m_parent\u001b[39m.\u001b[39;49mexecute(command, params)\n",
      "File \u001b[1;32mc:\\dev\\anaconda3\\envs\\capstone\\lib\\site-packages\\selenium\\webdriver\\remote\\webdriver.py:427\u001b[0m, in \u001b[0;36mWebDriver.execute\u001b[1;34m(self, driver_command, params)\u001b[0m\n\u001b[0;32m    424\u001b[0m         params[\u001b[39m'\u001b[39m\u001b[39msessionId\u001b[39m\u001b[39m'\u001b[39m] \u001b[39m=\u001b[39m \u001b[39mself\u001b[39m\u001b[39m.\u001b[39msession_id\n\u001b[0;32m    426\u001b[0m params \u001b[39m=\u001b[39m \u001b[39mself\u001b[39m\u001b[39m.\u001b[39m_wrap_value(params)\n\u001b[1;32m--> 427\u001b[0m response \u001b[39m=\u001b[39m \u001b[39mself\u001b[39;49m\u001b[39m.\u001b[39;49mcommand_executor\u001b[39m.\u001b[39;49mexecute(driver_command, params)\n\u001b[0;32m    428\u001b[0m \u001b[39mif\u001b[39;00m response:\n\u001b[0;32m    429\u001b[0m     \u001b[39mself\u001b[39m\u001b[39m.\u001b[39merror_handler\u001b[39m.\u001b[39mcheck_response(response)\n",
      "File \u001b[1;32mc:\\dev\\anaconda3\\envs\\capstone\\lib\\site-packages\\selenium\\webdriver\\remote\\remote_connection.py:344\u001b[0m, in \u001b[0;36mRemoteConnection.execute\u001b[1;34m(self, command, params)\u001b[0m\n\u001b[0;32m    342\u001b[0m data \u001b[39m=\u001b[39m utils\u001b[39m.\u001b[39mdump_json(params)\n\u001b[0;32m    343\u001b[0m url \u001b[39m=\u001b[39m \u001b[39mf\u001b[39m\u001b[39m\"\u001b[39m\u001b[39m{\u001b[39;00m\u001b[39mself\u001b[39m\u001b[39m.\u001b[39m_url\u001b[39m}\u001b[39;00m\u001b[39m{\u001b[39;00mpath\u001b[39m}\u001b[39;00m\u001b[39m\"\u001b[39m\n\u001b[1;32m--> 344\u001b[0m \u001b[39mreturn\u001b[39;00m \u001b[39mself\u001b[39;49m\u001b[39m.\u001b[39;49m_request(command_info[\u001b[39m0\u001b[39;49m], url, body\u001b[39m=\u001b[39;49mdata)\n",
      "File \u001b[1;32mc:\\dev\\anaconda3\\envs\\capstone\\lib\\site-packages\\selenium\\webdriver\\remote\\remote_connection.py:366\u001b[0m, in \u001b[0;36mRemoteConnection._request\u001b[1;34m(self, method, url, body)\u001b[0m\n\u001b[0;32m    363\u001b[0m     body \u001b[39m=\u001b[39m \u001b[39mNone\u001b[39;00m\n\u001b[0;32m    365\u001b[0m \u001b[39mif\u001b[39;00m \u001b[39mself\u001b[39m\u001b[39m.\u001b[39mkeep_alive:\n\u001b[1;32m--> 366\u001b[0m     response \u001b[39m=\u001b[39m \u001b[39mself\u001b[39;49m\u001b[39m.\u001b[39;49m_conn\u001b[39m.\u001b[39;49mrequest(method, url, body\u001b[39m=\u001b[39;49mbody, headers\u001b[39m=\u001b[39;49mheaders)\n\u001b[0;32m    367\u001b[0m     statuscode \u001b[39m=\u001b[39m response\u001b[39m.\u001b[39mstatus\n\u001b[0;32m    368\u001b[0m \u001b[39melse\u001b[39;00m:\n",
      "File \u001b[1;32mc:\\dev\\anaconda3\\envs\\capstone\\lib\\site-packages\\urllib3\\request.py:74\u001b[0m, in \u001b[0;36mRequestMethods.request\u001b[1;34m(self, method, url, fields, headers, **urlopen_kw)\u001b[0m\n\u001b[0;32m     71\u001b[0m urlopen_kw[\u001b[39m\"\u001b[39m\u001b[39mrequest_url\u001b[39m\u001b[39m\"\u001b[39m] \u001b[39m=\u001b[39m url\n\u001b[0;32m     73\u001b[0m \u001b[39mif\u001b[39;00m method \u001b[39min\u001b[39;00m \u001b[39mself\u001b[39m\u001b[39m.\u001b[39m_encode_url_methods:\n\u001b[1;32m---> 74\u001b[0m     \u001b[39mreturn\u001b[39;00m \u001b[39mself\u001b[39;49m\u001b[39m.\u001b[39;49mrequest_encode_url(\n\u001b[0;32m     75\u001b[0m         method, url, fields\u001b[39m=\u001b[39;49mfields, headers\u001b[39m=\u001b[39;49mheaders, \u001b[39m*\u001b[39;49m\u001b[39m*\u001b[39;49murlopen_kw\n\u001b[0;32m     76\u001b[0m     )\n\u001b[0;32m     77\u001b[0m \u001b[39melse\u001b[39;00m:\n\u001b[0;32m     78\u001b[0m     \u001b[39mreturn\u001b[39;00m \u001b[39mself\u001b[39m\u001b[39m.\u001b[39mrequest_encode_body(\n\u001b[0;32m     79\u001b[0m         method, url, fields\u001b[39m=\u001b[39mfields, headers\u001b[39m=\u001b[39mheaders, \u001b[39m*\u001b[39m\u001b[39m*\u001b[39murlopen_kw\n\u001b[0;32m     80\u001b[0m     )\n",
      "File \u001b[1;32mc:\\dev\\anaconda3\\envs\\capstone\\lib\\site-packages\\urllib3\\request.py:96\u001b[0m, in \u001b[0;36mRequestMethods.request_encode_url\u001b[1;34m(self, method, url, fields, headers, **urlopen_kw)\u001b[0m\n\u001b[0;32m     93\u001b[0m \u001b[39mif\u001b[39;00m fields:\n\u001b[0;32m     94\u001b[0m     url \u001b[39m+\u001b[39m\u001b[39m=\u001b[39m \u001b[39m\"\u001b[39m\u001b[39m?\u001b[39m\u001b[39m\"\u001b[39m \u001b[39m+\u001b[39m urlencode(fields)\n\u001b[1;32m---> 96\u001b[0m \u001b[39mreturn\u001b[39;00m \u001b[39mself\u001b[39;49m\u001b[39m.\u001b[39;49murlopen(method, url, \u001b[39m*\u001b[39;49m\u001b[39m*\u001b[39;49mextra_kw)\n",
      "File \u001b[1;32mc:\\dev\\anaconda3\\envs\\capstone\\lib\\site-packages\\urllib3\\poolmanager.py:376\u001b[0m, in \u001b[0;36mPoolManager.urlopen\u001b[1;34m(self, method, url, redirect, **kw)\u001b[0m\n\u001b[0;32m    374\u001b[0m     response \u001b[39m=\u001b[39m conn\u001b[39m.\u001b[39murlopen(method, url, \u001b[39m*\u001b[39m\u001b[39m*\u001b[39mkw)\n\u001b[0;32m    375\u001b[0m \u001b[39melse\u001b[39;00m:\n\u001b[1;32m--> 376\u001b[0m     response \u001b[39m=\u001b[39m conn\u001b[39m.\u001b[39;49murlopen(method, u\u001b[39m.\u001b[39;49mrequest_uri, \u001b[39m*\u001b[39;49m\u001b[39m*\u001b[39;49mkw)\n\u001b[0;32m    378\u001b[0m redirect_location \u001b[39m=\u001b[39m redirect \u001b[39mand\u001b[39;00m response\u001b[39m.\u001b[39mget_redirect_location()\n\u001b[0;32m    379\u001b[0m \u001b[39mif\u001b[39;00m \u001b[39mnot\u001b[39;00m redirect_location:\n",
      "File \u001b[1;32mc:\\dev\\anaconda3\\envs\\capstone\\lib\\site-packages\\urllib3\\connectionpool.py:703\u001b[0m, in \u001b[0;36mHTTPConnectionPool.urlopen\u001b[1;34m(self, method, url, body, headers, retries, redirect, assert_same_host, timeout, pool_timeout, release_conn, chunked, body_pos, **response_kw)\u001b[0m\n\u001b[0;32m    700\u001b[0m     \u001b[39mself\u001b[39m\u001b[39m.\u001b[39m_prepare_proxy(conn)\n\u001b[0;32m    702\u001b[0m \u001b[39m# Make the request on the httplib connection object.\u001b[39;00m\n\u001b[1;32m--> 703\u001b[0m httplib_response \u001b[39m=\u001b[39m \u001b[39mself\u001b[39;49m\u001b[39m.\u001b[39;49m_make_request(\n\u001b[0;32m    704\u001b[0m     conn,\n\u001b[0;32m    705\u001b[0m     method,\n\u001b[0;32m    706\u001b[0m     url,\n\u001b[0;32m    707\u001b[0m     timeout\u001b[39m=\u001b[39;49mtimeout_obj,\n\u001b[0;32m    708\u001b[0m     body\u001b[39m=\u001b[39;49mbody,\n\u001b[0;32m    709\u001b[0m     headers\u001b[39m=\u001b[39;49mheaders,\n\u001b[0;32m    710\u001b[0m     chunked\u001b[39m=\u001b[39;49mchunked,\n\u001b[0;32m    711\u001b[0m )\n\u001b[0;32m    713\u001b[0m \u001b[39m# If we're going to release the connection in ``finally:``, then\u001b[39;00m\n\u001b[0;32m    714\u001b[0m \u001b[39m# the response doesn't need to know about the connection. Otherwise\u001b[39;00m\n\u001b[0;32m    715\u001b[0m \u001b[39m# it will also try to release it and we'll have a double-release\u001b[39;00m\n\u001b[0;32m    716\u001b[0m \u001b[39m# mess.\u001b[39;00m\n\u001b[0;32m    717\u001b[0m response_conn \u001b[39m=\u001b[39m conn \u001b[39mif\u001b[39;00m \u001b[39mnot\u001b[39;00m release_conn \u001b[39melse\u001b[39;00m \u001b[39mNone\u001b[39;00m\n",
      "File \u001b[1;32mc:\\dev\\anaconda3\\envs\\capstone\\lib\\site-packages\\urllib3\\connectionpool.py:449\u001b[0m, in \u001b[0;36mHTTPConnectionPool._make_request\u001b[1;34m(self, conn, method, url, timeout, chunked, **httplib_request_kw)\u001b[0m\n\u001b[0;32m    444\u001b[0m             httplib_response \u001b[39m=\u001b[39m conn\u001b[39m.\u001b[39mgetresponse()\n\u001b[0;32m    445\u001b[0m         \u001b[39mexcept\u001b[39;00m \u001b[39mBaseException\u001b[39;00m \u001b[39mas\u001b[39;00m e:\n\u001b[0;32m    446\u001b[0m             \u001b[39m# Remove the TypeError from the exception chain in\u001b[39;00m\n\u001b[0;32m    447\u001b[0m             \u001b[39m# Python 3 (including for exceptions like SystemExit).\u001b[39;00m\n\u001b[0;32m    448\u001b[0m             \u001b[39m# Otherwise it looks like a bug in the code.\u001b[39;00m\n\u001b[1;32m--> 449\u001b[0m             six\u001b[39m.\u001b[39;49mraise_from(e, \u001b[39mNone\u001b[39;49;00m)\n\u001b[0;32m    450\u001b[0m \u001b[39mexcept\u001b[39;00m (SocketTimeout, BaseSSLError, SocketError) \u001b[39mas\u001b[39;00m e:\n\u001b[0;32m    451\u001b[0m     \u001b[39mself\u001b[39m\u001b[39m.\u001b[39m_raise_timeout(err\u001b[39m=\u001b[39me, url\u001b[39m=\u001b[39murl, timeout_value\u001b[39m=\u001b[39mread_timeout)\n",
      "File \u001b[1;32m<string>:3\u001b[0m, in \u001b[0;36mraise_from\u001b[1;34m(value, from_value)\u001b[0m\n",
      "File \u001b[1;32mc:\\dev\\anaconda3\\envs\\capstone\\lib\\site-packages\\urllib3\\connectionpool.py:444\u001b[0m, in \u001b[0;36mHTTPConnectionPool._make_request\u001b[1;34m(self, conn, method, url, timeout, chunked, **httplib_request_kw)\u001b[0m\n\u001b[0;32m    441\u001b[0m \u001b[39mexcept\u001b[39;00m \u001b[39mTypeError\u001b[39;00m:\n\u001b[0;32m    442\u001b[0m     \u001b[39m# Python 3\u001b[39;00m\n\u001b[0;32m    443\u001b[0m     \u001b[39mtry\u001b[39;00m:\n\u001b[1;32m--> 444\u001b[0m         httplib_response \u001b[39m=\u001b[39m conn\u001b[39m.\u001b[39;49mgetresponse()\n\u001b[0;32m    445\u001b[0m     \u001b[39mexcept\u001b[39;00m \u001b[39mBaseException\u001b[39;00m \u001b[39mas\u001b[39;00m e:\n\u001b[0;32m    446\u001b[0m         \u001b[39m# Remove the TypeError from the exception chain in\u001b[39;00m\n\u001b[0;32m    447\u001b[0m         \u001b[39m# Python 3 (including for exceptions like SystemExit).\u001b[39;00m\n\u001b[0;32m    448\u001b[0m         \u001b[39m# Otherwise it looks like a bug in the code.\u001b[39;00m\n\u001b[0;32m    449\u001b[0m         six\u001b[39m.\u001b[39mraise_from(e, \u001b[39mNone\u001b[39;00m)\n",
      "File \u001b[1;32mc:\\dev\\anaconda3\\envs\\capstone\\lib\\http\\client.py:1348\u001b[0m, in \u001b[0;36mHTTPConnection.getresponse\u001b[1;34m(self)\u001b[0m\n\u001b[0;32m   1346\u001b[0m \u001b[39mtry\u001b[39;00m:\n\u001b[0;32m   1347\u001b[0m     \u001b[39mtry\u001b[39;00m:\n\u001b[1;32m-> 1348\u001b[0m         response\u001b[39m.\u001b[39;49mbegin()\n\u001b[0;32m   1349\u001b[0m     \u001b[39mexcept\u001b[39;00m \u001b[39mConnectionError\u001b[39;00m:\n\u001b[0;32m   1350\u001b[0m         \u001b[39mself\u001b[39m\u001b[39m.\u001b[39mclose()\n",
      "File \u001b[1;32mc:\\dev\\anaconda3\\envs\\capstone\\lib\\http\\client.py:316\u001b[0m, in \u001b[0;36mHTTPResponse.begin\u001b[1;34m(self)\u001b[0m\n\u001b[0;32m    314\u001b[0m \u001b[39m# read until we get a non-100 response\u001b[39;00m\n\u001b[0;32m    315\u001b[0m \u001b[39mwhile\u001b[39;00m \u001b[39mTrue\u001b[39;00m:\n\u001b[1;32m--> 316\u001b[0m     version, status, reason \u001b[39m=\u001b[39m \u001b[39mself\u001b[39;49m\u001b[39m.\u001b[39;49m_read_status()\n\u001b[0;32m    317\u001b[0m     \u001b[39mif\u001b[39;00m status \u001b[39m!=\u001b[39m CONTINUE:\n\u001b[0;32m    318\u001b[0m         \u001b[39mbreak\u001b[39;00m\n",
      "File \u001b[1;32mc:\\dev\\anaconda3\\envs\\capstone\\lib\\http\\client.py:277\u001b[0m, in \u001b[0;36mHTTPResponse._read_status\u001b[1;34m(self)\u001b[0m\n\u001b[0;32m    276\u001b[0m \u001b[39mdef\u001b[39;00m \u001b[39m_read_status\u001b[39m(\u001b[39mself\u001b[39m):\n\u001b[1;32m--> 277\u001b[0m     line \u001b[39m=\u001b[39m \u001b[39mstr\u001b[39m(\u001b[39mself\u001b[39;49m\u001b[39m.\u001b[39;49mfp\u001b[39m.\u001b[39;49mreadline(_MAXLINE \u001b[39m+\u001b[39;49m \u001b[39m1\u001b[39;49m), \u001b[39m\"\u001b[39m\u001b[39miso-8859-1\u001b[39m\u001b[39m\"\u001b[39m)\n\u001b[0;32m    278\u001b[0m     \u001b[39mif\u001b[39;00m \u001b[39mlen\u001b[39m(line) \u001b[39m>\u001b[39m _MAXLINE:\n\u001b[0;32m    279\u001b[0m         \u001b[39mraise\u001b[39;00m LineTooLong(\u001b[39m\"\u001b[39m\u001b[39mstatus line\u001b[39m\u001b[39m\"\u001b[39m)\n",
      "File \u001b[1;32mc:\\dev\\anaconda3\\envs\\capstone\\lib\\socket.py:669\u001b[0m, in \u001b[0;36mSocketIO.readinto\u001b[1;34m(self, b)\u001b[0m\n\u001b[0;32m    667\u001b[0m \u001b[39mwhile\u001b[39;00m \u001b[39mTrue\u001b[39;00m:\n\u001b[0;32m    668\u001b[0m     \u001b[39mtry\u001b[39;00m:\n\u001b[1;32m--> 669\u001b[0m         \u001b[39mreturn\u001b[39;00m \u001b[39mself\u001b[39;49m\u001b[39m.\u001b[39;49m_sock\u001b[39m.\u001b[39;49mrecv_into(b)\n\u001b[0;32m    670\u001b[0m     \u001b[39mexcept\u001b[39;00m timeout:\n\u001b[0;32m    671\u001b[0m         \u001b[39mself\u001b[39m\u001b[39m.\u001b[39m_timeout_occurred \u001b[39m=\u001b[39m \u001b[39mTrue\u001b[39;00m\n",
      "\u001b[1;31mKeyboardInterrupt\u001b[0m: "
     ]
    }
   ],
   "source": [
    "from posixpath import abspath\n",
    "from selenium import webdriver\n",
    "from selenium.webdriver.common.keys import Keys\n",
    "from selenium.webdriver.common.by import By\n",
    "from selenium.webdriver.support.ui import WebDriverWait\n",
    "from selenium.webdriver.support import expected_conditions as EC\n",
    "from selenium.webdriver.common.action_chains import ActionChains\n",
    "from selenium.webdriver.common.desired_capabilities import DesiredCapabilities\n",
    "from selenium.webdriver.chrome.options import Options\n",
    "import time, os, tqdm\n",
    "\n",
    "driver = webdriver.Chrome()\n",
    "\n",
    "def getCenterPosition(driver, element):\n",
    "    location = element.location\n",
    "    size = element.size\n",
    "    return (location['x'] + size['width'] / 2, location['y'] + size['height'] / 2)\n",
    "\n",
    "htmls = [f for f in os.listdir(dataPath) if f.endswith('.html')]\n",
    "# 태그별 중심 좌표 수집\n",
    "centerPosData = dict()\n",
    "for i, name in enumerate(htmls):\n",
    "    html = os.path.join(dataPath, name)\n",
    "    driver.get(abspath(html))\n",
    "    time.sleep(0.1)\n",
    "    \n",
    "    # retrive center position\n",
    "    elements = driver.find_elements(By.XPATH, '//*')\n",
    "    for element in elements:\n",
    "        center = getCenterPosition(driver, element)\n",
    "        if center==(0, 0):\n",
    "            continue\n",
    "        if element.tag_name not in centerPosData:\n",
    "            centerPosData[element.tag_name] = [center]\n",
    "        else:\n",
    "            centerPosData[element.tag_name].append(center)\n",
    "        # print(element.tag_name, getCenterPosition(driver, element))\n",
    "    # break\n",
    "driver.close()"
   ]
  },
  {
   "cell_type": "code",
   "execution_count": 15,
   "metadata": {},
   "outputs": [],
   "source": [
    "import json\n",
    "with open('centerPosDataGen.json', 'w') as f:\n",
    "    json.dump(centerPosData, f)"
   ]
  },
  {
   "cell_type": "code",
   "execution_count": 16,
   "metadata": {},
   "outputs": [
    {
     "data": {
      "image/png": "[encoded data removed]",
      "text/plain": [
       "<Figure size 432x288 with 1 Axes>"
      ]
     },
     "metadata": {
      "needs_background": "light"
     },
     "output_type": "display_data"
    }
   ],
   "source": [
    "import json\n",
    "with open('centerPosDataGen.json', 'r') as f:\n",
    "    centerPosData_ = json.load(f)\n",
    "\n",
    "# 태그별 중심 좌표 분포\n",
    "import matplotlib.pyplot as plt\n",
    "import numpy as np\n",
    "\n",
    "for tag, pos in centerPosData_.items():\n",
    "    pos = np.array(pos)\n",
    "    plt.scatter(pos[:, 0], pos[:, 1], label=tag)\n",
    "plt.legend()\n",
    "plt.show()\n"
   ]
  },
  {
   "cell_type": "code",
   "execution_count": 15,
   "metadata": {},
   "outputs": [
    {
     "data": {
      "text/plain": [
       "<matplotlib.collections.PathCollection at 0x296afca63d0>"
      ]
     },
     "execution_count": 15,
     "metadata": {},
     "output_type": "execute_result"
    },
    {
     "data": {
      "image/png": "[encoded data removed]",
      "text/plain": [
       "<Figure size 432x288 with 1 Axes>"
      ]
     },
     "metadata": {
      "needs_background": "light"
     },
     "output_type": "display_data"
    }
   ],
   "source": [
    "plt.scatter(*zip(*centerPosData['div']))"
   ]
  },
  {
   "cell_type": "code",
   "execution_count": 17,
   "metadata": {},
   "outputs": [
    {
     "data": {
      "image/png": "[encoded data removed]",
      "text/plain": [
       "<Figure size 432x288 with 1 Axes>"
      ]
     },
     "metadata": {
      "needs_background": "light"
     },
     "output_type": "display_data"
    }
   ],
   "source": [
    "for posData in centerPosData:\n",
    "    plt.scatter(*zip(*centerPosData[posData]))\n",
    "plt.show()"
   ]
  },
  {
   "cell_type": "markdown",
   "metadata": {},
   "source": [
    "# 크기"
   ]
  },
  {
   "cell_type": "code",
   "execution_count": 1,
   "metadata": {},
   "outputs": [],
   "source": [
    "dataPath = \"dataGenerator/data/dsl/\""
   ]
  },
  {
   "cell_type": "code",
   "execution_count": 14,
   "metadata": {},
   "outputs": [
    {
     "ename": "KeyboardInterrupt",
     "evalue": "",
     "output_type": "error",
     "traceback": [
      "\u001b[1;31m---------------------------------------------------------------------------\u001b[0m",
      "\u001b[1;31mKeyboardInterrupt\u001b[0m                         Traceback (most recent call last)",
      "\u001b[1;32md:\\workspace\\im2code2\\capstone-design-img2code\\analysis.ipynb Cell 17\u001b[0m in \u001b[0;36m<cell line: 21>\u001b[1;34m()\u001b[0m\n\u001b[0;32m     <a href='vscode-notebook-cell:/d%3A/workspace/im2code2/capstone-design-img2code/analysis.ipynb#X16sZmlsZQ%3D%3D?line=21'>22</a>\u001b[0m html \u001b[39m=\u001b[39m os\u001b[39m.\u001b[39mpath\u001b[39m.\u001b[39mjoin(dataPath, name)\n\u001b[0;32m     <a href='vscode-notebook-cell:/d%3A/workspace/im2code2/capstone-design-img2code/analysis.ipynb#X16sZmlsZQ%3D%3D?line=22'>23</a>\u001b[0m driver\u001b[39m.\u001b[39mget(abspath(html))\n\u001b[1;32m---> <a href='vscode-notebook-cell:/d%3A/workspace/im2code2/capstone-design-img2code/analysis.ipynb#X16sZmlsZQ%3D%3D?line=23'>24</a>\u001b[0m time\u001b[39m.\u001b[39;49msleep(\u001b[39m10\u001b[39;49m)\n\u001b[0;32m     <a href='vscode-notebook-cell:/d%3A/workspace/im2code2/capstone-design-img2code/analysis.ipynb#X16sZmlsZQ%3D%3D?line=25'>26</a>\u001b[0m \u001b[39m# retrive center position\u001b[39;00m\n\u001b[0;32m     <a href='vscode-notebook-cell:/d%3A/workspace/im2code2/capstone-design-img2code/analysis.ipynb#X16sZmlsZQ%3D%3D?line=26'>27</a>\u001b[0m elements \u001b[39m=\u001b[39m driver\u001b[39m.\u001b[39mfind_elements(By\u001b[39m.\u001b[39mXPATH, \u001b[39m'\u001b[39m\u001b[39m//*\u001b[39m\u001b[39m'\u001b[39m)\n",
      "\u001b[1;31mKeyboardInterrupt\u001b[0m: "
     ]
    }
   ],
   "source": [
    "from posixpath import abspath\n",
    "from selenium import webdriver\n",
    "from selenium.webdriver.common.keys import Keys\n",
    "from selenium.webdriver.common.by import By\n",
    "from selenium.webdriver.support.ui import WebDriverWait\n",
    "from selenium.webdriver.support import expected_conditions as EC\n",
    "from selenium.webdriver.common.action_chains import ActionChains\n",
    "from selenium.webdriver.common.desired_capabilities import DesiredCapabilities\n",
    "from selenium.webdriver.chrome.options import Options\n",
    "import time, os, tqdm\n",
    "\n",
    "driver = webdriver.Chrome()\n",
    "\n",
    "def gerElementSize(driver, element):\n",
    "    size = element.size\n",
    "    return size['width']*size['height']\n",
    "\n",
    "htmls = [f for f in os.listdir(dataPath) if f.endswith('.html')]\n",
    "# 태그별 크기 정보 수집\n",
    "sizeData = dict()\n",
    "for i, name in enumerate(htmls):\n",
    "    html = os.path.join(dataPath, name)\n",
    "    driver.get(abspath(html))\n",
    "    time.sleep(0.1)\n",
    "    \n",
    "    # retrive center position\n",
    "    elements = driver.find_elements(By.XPATH, '//*')\n",
    "    for element in elements:\n",
    "        size = gerElementSize(driver, element)\n",
    "        if size==(0, 0):\n",
    "            continue\n",
    "        if element.tag_name not in sizeData:\n",
    "            sizeData[element.tag_name] = {size:1}\n",
    "        else:\n",
    "            if size not in sizeData[element.tag_name]:\n",
    "                sizeData[element.tag_name][size] = 1\n",
    "            else:\n",
    "                sizeData[element.tag_name][size] += 1\n",
    "    if i==10:\n",
    "        break\n",
    "\n",
    "driver.close()\n",
    "\n",
    "del(sizeData['html'])\n",
    "del(sizeData['style'])\n",
    "del(sizeData['body'])\n",
    "del(sizeData['main'])\n",
    "del(sizeData['nav'])\n",
    "print(sizeData)\n",
    "# bubble chart\n",
    "import matplotlib.pyplot as plt\n",
    "import numpy as np\n",
    "\n",
    "# x축 : 태그, y축 : 크기, z축 : 개수\n",
    "for tag, size in sizeData.items():\n",
    "    x = [tag]*len(size)\n",
    "    y = list(size.keys())\n",
    "    z = list(size.values())\n",
    "    plt.scatter(x, y, s=z, label=tag)\n",
    "# plt.legend()\n",
    "plt.show()\n"
   ]
  },
  {
   "cell_type": "code",
   "execution_count": 32,
   "metadata": {},
   "outputs": [],
   "source": [
    "def colorTagPlot(path):\n",
    "    colors = {'rgba(51, 51, 51, 1)':'black', 'rgba(59, 130, 246, 1)':'blue', 'rgba(245, 245, 245, 1)':'white', 'rgba(249, 115, 22, 1)':'orange', 'rgba(239, 68, 68, 1)':'red', 'rgba(34, 197, 94, 1)':'green'}\n",
    "    driver = webdriver.Chrome()\n",
    "    htmls = [f for f in os.listdir(dataPath) if f.endswith('.html')]\n",
    "    # 태그별 배경 색 정보 수집\n",
    "    colorData = dict()\n",
    "    for i, name in enumerate(htmls):\n",
    "        html = os.path.join(dataPath, name)\n",
    "        driver.get(abspath(html))\n",
    "        time.sleep(0.1)\n",
    "        \n",
    "        # retrive center position\n",
    "        elements = driver.find_elements(By.XPATH, '//*')\n",
    "        for element in elements:\n",
    "            color = element.value_of_css_property('background-color')\n",
    "            if color=='rgba(0, 0, 0, 0)':\n",
    "                continue\n",
    "            color = colors[color]\n",
    "            if element.tag_name+color not in colorData:\n",
    "                colorData[element.tag_name+color] = 1\n",
    "            else:\n",
    "                colorData[element.tag_name+color] += 1\n",
    "        if i==10:\n",
    "            break\n",
    "    driver.close()\n",
    "\n",
    "    # 바 차트\n",
    "    import matplotlib.pyplot as plt\n",
    "    import numpy as np\n",
    "\n",
    "    # x축 : 태그+색, y축 : 개수\n",
    "    plt.bar(colorData.keys(), colorData.values())\n",
    "    plt.show()\n",
    "\n",
    "    return colorData"
   ]
  },
  {
   "cell_type": "code",
   "execution_count": 33,
   "metadata": {},
   "outputs": [
    {
     "data": {
      "image/png": "[encoded data removed]",
      "text/plain": [
       "<Figure size 432x288 with 1 Axes>"
      ]
     },
     "metadata": {
      "needs_background": "light"
     },
     "output_type": "display_data"
    }
   ],
   "source": [
    "colorData = colorTagPlot(dataPath)"
   ]
  },
  {
   "cell_type": "code",
   "execution_count": 29,
   "metadata": {},
   "outputs": [
    {
     "name": "stdout",
     "output_type": "stream",
     "text": [
      "{'lirgba(51, 51, 51, 1)': 24, 'buttonrgba(59, 130, 246, 1)': 24, 'divrgba(245, 245, 245, 1)': 52, 'buttonrgba(249, 115, 22, 1)': 12, 'buttonrgba(239, 68, 68, 1)': 9, 'buttonrgba(34, 197, 94, 1)': 14}\n"
     ]
    }
   ],
   "source": [
    "print(colorData)"
   ]
  }
 ],
 "metadata": {
  "kernelspec": {
   "display_name": "Python 3.8.13 ('capstone')",
   "language": "python",
   "name": "python3"
  },
  "language_info": {
   "codemirror_mode": {
    "name": "ipython",
    "version": 3
   },
   "file_extension": ".py",
   "mimetype": "text/x-python",
   "name": "python",
   "nbconvert_exporter": "python",
   "pygments_lexer": "ipython3",
   "version": "3.8.13"
  },
  "orig_nbformat": 4,
  "vscode": {
   "interpreter": {
    "hash": "416c1d3ac02f713a9a5502b63071185a8d76ad9cf71f6b904773d8aa1e5d8d6d"
   }
  }
 },
 "nbformat": 4,
 "nbformat_minor": 2
}
