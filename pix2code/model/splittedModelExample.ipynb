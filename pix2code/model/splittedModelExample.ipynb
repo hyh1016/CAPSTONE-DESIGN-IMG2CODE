{
 "cells": [
  {
   "cell_type": "code",
   "execution_count": 1,
   "metadata": {},
   "outputs": [],
   "source": [
    "from __future__ import print_function\n",
    "from __future__ import absolute_import\n",
    "from classes.Sampler import *\n",
    "from classes.model.pix2code import *\n",
    "from classes.model.SplittedPix2codeTextual import *\n",
    "from classes.model.SplittedPix2codeVisual import *\n",
    "from os.path import basename"
   ]
  },
  {
   "cell_type": "code",
   "execution_count": 2,
   "metadata": {},
   "outputs": [
    {
     "name": "stderr",
     "output_type": "stream",
     "text": [
      "c:\\dev\\anaconda3\\envs\\capstone\\lib\\site-packages\\keras\\optimizer_v2\\rmsprop.py:130: UserWarning: The `lr` argument is deprecated, use `learning_rate` instead.\n",
      "  super(RMSprop, self).__init__(name, **kwargs)\n"
     ]
    },
    {
     "name": "stdout",
     "output_type": "stream",
     "text": [
      "Vocabulary size: 19\n",
      "Input shape: (256, 256, 3)\n",
      "Output size: 19\n"
     ]
    }
   ],
   "source": [
    "trained_weights_path = '../bin'\n",
    "trained_model_name = 'pix2code'\n",
    "output_path = '../code'\n",
    "input_path = './test.png'\n",
    "meta_dataset = np.load(\"{}/meta_dataset.npy\".format(trained_weights_path), allow_pickle=True)\n",
    "input_shape = meta_dataset[0]\n",
    "output_size = meta_dataset[1]\n",
    "\n",
    "model = pix2code(input_shape, output_size, trained_weights_path)\n",
    "model.load(trained_model_name)\n",
    "\n",
    "sampler = Sampler(trained_weights_path, input_shape, output_size, CONTEXT_LENGTH)"
   ]
  },
  {
   "cell_type": "code",
   "execution_count": 3,
   "metadata": {},
   "outputs": [],
   "source": [
    "visual = SplittedPix2codeVisual(model.model)\n",
    "textual = SplittedPix2codeTextual(model.model)\n",
    "test_img = Utils.get_preprocessed_img(input_path, IMAGE_SIZE)"
   ]
  },
  {
   "cell_type": "code",
   "execution_count": 13,
   "metadata": {},
   "outputs": [],
   "source": [
    "encoded_img = visual.predict(np.array([test_img]))"
   ]
  },
  {
   "cell_type": "code",
   "execution_count": 10,
   "metadata": {},
   "outputs": [
    {
     "name": "stdout",
     "output_type": "stream",
     "text": [
      "Vocabulary size: 19\n",
      "Input shape: (256, 256, 3)\n",
      "Output size: 19\n"
     ]
    }
   ],
   "source": [
    "sampler = Sampler(trained_weights_path, input_shape, output_size, CONTEXT_LENGTH)\n",
    "file_name = basename(input_path)[:basename(input_path).find(\".\")]"
   ]
  },
  {
   "cell_type": "code",
   "execution_count": 11,
   "metadata": {},
   "outputs": [
    {
     "name": "stdout",
     "output_type": "stream",
     "text": [
      "Result greedy: <START>header{\n",
      "btn-inactive,btn-inactive,btn-inactive,btn-active\n",
      "}\n",
      "row{\n",
      "single{\n",
      "small-title,text,btn-red\n",
      "}\n",
      "}\n",
      "<END>\n"
     ]
    }
   ],
   "source": [
    "result, _ = sampler.predict_greedy(textual, np.array([encoded_img]))\n",
    "print(\"Result greedy: {}\".format(result))"
   ]
  },
  {
   "cell_type": "code",
   "execution_count": 12,
   "metadata": {},
   "outputs": [
    {
     "name": "stdout",
     "output_type": "stream",
     "text": [
      "Result greedy: <START>header{\n",
      "btn-inactive,btn-inactive,btn-inactive,btn-active\n",
      "}\n",
      "row{\n",
      "single{\n",
      "small-title,text,btn-red\n",
      "}\n",
      "}\n",
      "<END>\n"
     ]
    }
   ],
   "source": [
    "result, _ = sampler.predict_greedy(model, np.array([test_img]))\n",
    "print(\"Result greedy: {}\".format(result))"
   ]
  }
 ],
 "metadata": {
  "interpreter": {
   "hash": "416c1d3ac02f713a9a5502b63071185a8d76ad9cf71f6b904773d8aa1e5d8d6d"
  },
  "kernelspec": {
   "display_name": "Python 3.8.13 ('capstone')",
   "language": "python",
   "name": "python3"
  },
  "language_info": {
   "codemirror_mode": {
    "name": "ipython",
    "version": 3
   },
   "file_extension": ".py",
   "mimetype": "text/x-python",
   "name": "python",
   "nbconvert_exporter": "python",
   "pygments_lexer": "ipython3",
   "version": "3.8.13"
  },
  "orig_nbformat": 4
 },
 "nbformat": 4,
 "nbformat_minor": 2
}
